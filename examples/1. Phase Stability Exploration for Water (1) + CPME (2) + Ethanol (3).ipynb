{
 "cells": [
  {
   "cell_type": "markdown",
   "id": "e8612d72",
   "metadata": {},
   "source": [
    "# 1. Phase Stability Exploration for Water (1) + CPME (2) + Ethanol (3)\n",
    "\n",
    "In this notebook, the region where the mixture of Water (1) + CPME (2) + Ethanol (3) splits into vapour-liquid-liquid equilibria (VLLE) is explored. The mixture is modelled using the SAFT-VR-Mie equation of state. All calculations are done using the [sgtpy](https://github.com/gustavochm/sgtpy) package.\n",
    "\n",
    "This notebook is part of the Supplementary Information of the article *Description of isobaric vapor-liquid-liquid equilibrium for water + cyclopentyl methyl ether + alcohol (ethanol or propan-1-ol) ternary mixtures* by Andrés Mejía, Marcela Cartes, Gustavo Chaparro and Erich A. Müller.\n",
    "\n",
    "First, the needed packages are imported."
   ]
  },
  {
   "cell_type": "code",
   "execution_count": 1,
   "id": "a9d944d7",
   "metadata": {},
   "outputs": [],
   "source": [
    "import numpy as np\n",
    "from sgtpy import component, mixture, saftvrmie\n",
    "from sgtpy.equilibrium import tpd_minimas, vlle\n",
    "import matplotlib.pyplot as plt\n",
    "import pandas as pd\n",
    "\n",
    "from plot_utils import plot_stability\n",
    "\n",
    "np.seterr(all='ignore');"
   ]
  },
  {
   "cell_type": "markdown",
   "id": "6e15a694",
   "metadata": {},
   "source": [
    "### Mixture definition\n",
    "\n",
    "The mixture of Water (1) + CPME (2) + Ethanol (3) and its interaction parameters are defined using the `component` and `saftvrmie` functions.\n",
    "\n",
    "The following mixing rules are applied for the molecular parameters:\n",
    "\n",
    "$$ \\sigma_{ij} = \\frac{\\sigma_i + \\sigma_j}{2} ; \\quad \\epsilon_{ij} = (1-k_{ij}) \\frac{\\sqrt{\\sigma_i^3 \\sigma_j^3}}{\\sigma_{ij}^3} \\sqrt{\\epsilon_i \\epsilon_j} ;\\quad \\lambda_{k,ij} = \\sqrt{(\\lambda_{k,i} - 3)(\\lambda_{k,j} - 3)} + 3 \\quad k=a,r $$\n",
    "\n",
    "Additionally, for cross-association: \n",
    "\n",
    "$$ r^{ABij}_c = \\frac{r^{ABii}_c + r^{ABjj}_c}{2} ;\\quad r^{ABij}_d = \\frac{r^{ABii}_d + r^{ABjj}_d}{2} ;\\quad \\epsilon_{ij}^{AB} = (1 - l_{ij})\\sqrt{\\epsilon_{ii}^{AB} \\epsilon_{jj}^{AB}} $$\n",
    "\n",
    "Finally, if there is induced association (e.g., cpme-water, cpme-ethanol):\n",
    "\n",
    "$$ \\epsilon_{ij}^{AB} = \\frac{\\epsilon^{AB}  (self-associating)}{2} ;\\quad  r^{ABij}_c (fitted)$$"
   ]
  },
  {
   "cell_type": "code",
   "execution_count": 2,
   "id": "f1cb084e",
   "metadata": {},
   "outputs": [],
   "source": [
    "water = component('water', ms = 1.7311, sigma = 2.4539 , eps = 110.85,\n",
    "                  lambda_r = 8.308, lambda_a = 6.,  eAB = 1991.07, rcAB = 0.5624,\n",
    "                  rdAB = 0.4, sites = [0,2,2])\n",
    "\n",
    "cpme = component('cpme', ms =  2.32521144, sigma = 4.13606074, eps = 343.91193798, \n",
    "                 lambda_r = 14.15484877, lambda_a = 6.0, npol = 1.91990385, mupol = 1.27,\n",
    "                 sites= [0,0,1])\n",
    "\n",
    "ethanol = component('ethanol2C', ms = 1.7728, sigma = 3.5592 , eps = 224.50,\n",
    "                    lambda_r = 11.319, lambda_a = 6., eAB = 3018.05, rcAB = 0.3547,\n",
    "                    rdAB = 0.4, sites = [1,0,1])\n",
    "\n",
    "# creating mixture\n",
    "mix = water + cpme + ethanol\n",
    "\n",
    "# water (1) - cpme (2)\n",
    "k12 = -0.01606063\n",
    "rc12 = 2.64635702\n",
    "l12 = 0.\n",
    "\n",
    "# water (1) - ethanol (3)\n",
    "k13 = -0.00699825\n",
    "l13 = -0.01518442\n",
    "\n",
    "#cpme (2) - ethanol (3)\n",
    "k23 =  0.01015004\n",
    "rc23 = 2.23150428\n",
    "l23 = 0.\n",
    "\n",
    "# Setting up interactions between components\n",
    "Kij = np.array([[0., k12, k13], [k12, 0., k23], [k13, k23, 0.]])\n",
    "Lij = np.array([[0., l12, l13], [l12, 0., l23], [l13, l23, 0.]])\n",
    "\n",
    "mix.kij_saft(Kij)\n",
    "mix.lij_saft(Lij)\n",
    "# Then eos object is created\n",
    "eos = saftvrmie(mix)\n",
    "\n",
    "# Induced association between Water-CPME\n",
    "eos.eABij[0,1] = water.eAB / 2\n",
    "eos.eABij[1,0] = water.eAB / 2\n",
    "eos.rcij[0,1] = rc12 * 1e-10\n",
    "eos.rcij[1,0] = rc12 * 1e-10\n",
    "\n",
    "# Induced association between CPME-Ethanol\n",
    "eos.eABij[1,2] = ethanol.eAB / 2\n",
    "eos.eABij[2,1] = ethanol.eAB / 2\n",
    "eos.rcij[1,2] = rc23 * 1e-10\n",
    "eos.rcij[2,1] = rc23 * 1e-10"
   ]
  },
  {
   "cell_type": "markdown",
   "id": "330c76ef",
   "metadata": {},
   "source": [
    "### Phase stability and equilibrium calculation\n",
    "\n",
    "For simplicity, the phase stability of the mixture is explored at 349.5 K and 101325 Pa. The stability of the phases is tested using the tangent plane distance function. \n",
    "\n",
    "$$ tpd(\\mathbf{w}) = \\sum_{i=1}^c w_i \\left[ \\ln w_i + \\ln \\hat{\\phi_i}(\\mathbf{w}) - \\ln z_i - \\ln \\hat{\\phi_i}(\\mathbf{z}) \\right]$$\n",
    "\n",
    "Here, $\\mathbf{w}$ and $\\mathbf{z}$ are the trial phase and global composition molar fraction vectors, respectively. $\\hat{\\phi_i}$ refers to the effective fugacity coefficient of component $i$. If there exists a trial phase ($\\mathbf{w}$) for which the tpd function is negative, then the Gibbs free energy of the system would reduce if this phase were to be present in the system. Hence the original global mixture ($\\mathbf{z}$) is unstable at this temperature and pressure conditions.\n",
    "\n",
    "##### Case 1: Z = [0.5, 0.4, 0.1], T = 349.5K and P = 101325 Pa\n",
    "For visualization, the `plot_stability` function point with a red square where the global trial composition lies. In the first example, `Z_trial = [0.5, 0.4, 0.1]` lies in the region where there are two liquid-like and one vapour-like trial phases with negative tpd values. In this plot, the background colour indicates the type of equilibria the system will likely split into, based only on the tpd test. **The dashed triangle indicates the region where the system splits into VLLE.**"
   ]
  },
  {
   "cell_type": "code",
   "execution_count": 3,
   "id": "2e399677",
   "metadata": {},
   "outputs": [
    {
     "data": {
      "image/png": "[encoded data removed]",
      "text/plain": [
       "<Figure size 252x252 with 2 Axes>"
      ]
     },
     "metadata": {
      "needs_background": "light"
     },
     "output_type": "display_data"
    }
   ],
   "source": [
    "Z_trial = np.array([0.5, 0.4, 0.1])\n",
    "plot_stability(Z_trial);"
   ]
  },
  {
   "cell_type": "markdown",
   "id": "be80fd4f",
   "metadata": {},
   "source": [
    "The stability test is done as follows:\n",
    "\n",
    "1. A liquid-like global composition is tested against vapour-like trial phases. (To check for possible VLE)\n",
    "2. A vapour-like global composition is tested against liquid-like trial phases. (to check for possible VLE)\n",
    "3. A liquid-like global composition is tested against liquid-like trial phases. (To check for possible LLE)\n",
    "\n",
    "The tpd minima are obtained using the `tpd_minimas` function from `sgtpy`. Possible duplicated minima are disregarded, and then the tpd values are sorted. "
   ]
  },
  {
   "cell_type": "code",
   "execution_count": 4,
   "id": "aa46af08",
   "metadata": {},
   "outputs": [
    {
     "name": "stdout",
     "output_type": "stream",
     "text": [
      "Probably bulk phase:  False\n",
      "Probably VLE:  True\n",
      "Probably LLE:  True\n",
      "Probably VLLE:  True\n"
     ]
    }
   ],
   "source": [
    "T = 349.5  # K\n",
    "P = 101325. # Pa\n",
    "Z_trial = np.array([0.5, 0.4, 0.1])\n",
    "Z = Z_trial\n",
    "\n",
    "tpd_tol = -1e-3\n",
    "\n",
    "\n",
    "########################################\n",
    "# Test vapour trial phase against liquid\n",
    "########################################\n",
    "Y_trial, tpd_gas = tpd_minimas(3, Z, T, P, eos, stateW='V', stateZ='L')\n",
    "Y_trial = np.array(Y_trial)\n",
    "\n",
    "tpd_gas, index_unique = np.unique(tpd_gas, return_index=True)\n",
    "sort = np.argsort(tpd_gas)\n",
    "tpd_gas = tpd_gas[sort]\n",
    "index_unique = index_unique[sort]\n",
    "Y_trial = Y_trial[index_unique]\n",
    "Y_trial = Y_trial[0]\n",
    "tpd_gas = tpd_gas[0]\n",
    "\n",
    "if tpd_gas < tpd_tol:\n",
    "    # this means the liquid is unstable respect to the gas/vapour\n",
    "    possible_vle_gas = True\n",
    "else:\n",
    "    possible_vle_gas = False\n",
    "\n",
    "\n",
    "##############################################\n",
    "# Test liquid trial phase against vapour phase\n",
    "##############################################\n",
    "X_vle_trial, tpd_vle_liq = tpd_minimas(5, Z, T, P, eos, stateW='L', stateZ='V')\n",
    "X_vle_trial = np.array(X_vle_trial)\n",
    "tpd_vle_liq, index_unique = np.unique(tpd_vle_liq, return_index=True)\n",
    "\n",
    "sort = np.argsort(tpd_vle_liq)\n",
    "tpd_vle_liq = tpd_vle_liq[sort]\n",
    "index_unique = index_unique[sort]\n",
    "X_vle_trial = X_vle_trial[index_unique]\n",
    "\n",
    "tpd_vle_liq = tpd_vle_liq[0]\n",
    "X_vle_trial = X_vle_trial[0]\n",
    "\n",
    "if tpd_vle_liq < tpd_tol:\n",
    "    # this means this gas/vapour is unstable respect to the liquid\n",
    "    possible_vle_liq = True\n",
    "else:\n",
    "    possible_vle_liq = False\n",
    "    \n",
    "\n",
    "##############\n",
    "# Test for LLE\n",
    "##############\n",
    "        \n",
    "X_trials, tpd_liq = tpd_minimas(5, Z, T, P, eos, stateW='L', stateZ='L')\n",
    "X_trials = np.array(X_trials)\n",
    "\n",
    "tpd_liq, index_unique = np.unique(tpd_liq, return_index=True)\n",
    "if len(index_unique) >= 2:\n",
    "    sort = np.argsort(tpd_liq)\n",
    "    tpd_liq = tpd_liq[sort]\n",
    "    index_unique = index_unique[sort]\n",
    "    X_trials = X_trials[index_unique]\n",
    "\n",
    "    # getting the two lowest tpd values\n",
    "    X_trials = X_trials[:2]\n",
    "    tpd_liq = tpd_liq[:2]\n",
    "\n",
    "    if np.any(tpd_liq < tpd_tol):\n",
    "        possible_lle = True\n",
    "    else:\n",
    "        possible_lle = False\n",
    "else: \n",
    "    possible_lle = False\n",
    "    \n",
    "probably_vle = possible_vle_liq and possible_vle_gas\n",
    "probably_lle = possible_lle\n",
    "probably_vlle = possible_vle_gas and possible_lle\n",
    "probably_bulk_phase = (not probably_vle) and (not probably_lle) and (not probably_vlle)\n",
    "\n",
    "print(\"Probably bulk phase: \", probably_bulk_phase)\n",
    "print(\"Probably VLE: \", probably_vle)\n",
    "print(\"Probably LLE: \", probably_lle)\n",
    "print(\"Probably VLLE: \", probably_vlle)"
   ]
  },
  {
   "cell_type": "markdown",
   "id": "b0bfe342",
   "metadata": {},
   "source": [
    "As shown above, this global composition has two liquid-like and one vapour-like trial phases with negative tpd values. Hence, the system is unstable and likely to split into VLLE. However, it is necessary to perform the actual phase equilibria calculation to check which phases are present. \n",
    "\n",
    "The calculation is done by solving the following modified [multiphase flash](https://www.sciencedirect.com/science/article/pii/037838129180021M):\n",
    "\n",
    "$$ \\sum_{i=1}^c \\frac{z_i (K_{ik} \\exp{\\theta}-1)}{1+ \\sum\\limits^{\\pi}_{\\substack{j=1 \\\\ j \\neq r}}{\\beta_j (K_{ij}} \\exp{\\theta_j} -1)} = 0 \\qquad k = 1,..., \\pi,  k \\neq r $$\n",
    "\n",
    "Subject to:\n",
    "\n",
    "$$ \\beta_k \\theta_k = 0 $$\n",
    "\n",
    "In this system of equations, $z_i$ represents the global composition of the component $i$,  $ K_{ij} = x_{ij}/x_{ir} = \\hat{\\phi}_{ir}/\\hat{\\phi}_{ij} $ is the constant equilibrium of component $i$ in phase $j$ respect to the reference phase $r$, and $\\beta_j$ and $\\theta_j$ are the phase fraction and stability variable of the phase $j$. The stability variables $\\theta_j$ are zero for stable phases and positive for unstable phases."
   ]
  },
  {
   "cell_type": "code",
   "execution_count": 5,
   "id": "92f53f18",
   "metadata": {},
   "outputs": [
    {
     "data": {
      "text/plain": [
       "           T: 349.5\n",
       "           P: 101325.0\n",
       " error_outer: 5.895904912004722e-16\n",
       " error_inner: 2.678800510320148e-10\n",
       "        iter: 16\n",
       "        beta: array([0.47232228, 0.52767772, 0.        ])\n",
       "       tetha: array([0.       , 0.       , 0.0633581])\n",
       "           X: array([[0.93262597, 0.00473655, 0.06263747],\n",
       "       [0.11275816, 0.75379879, 0.13344305],\n",
       "       [0.41080067, 0.35907156, 0.23012777]])\n",
       "           v: [2.123121765490564e-05, 0.00010327915746053408, 0.027770112805576567]\n",
       "        Xass: [array([0.09690041, 0.12574569, 0.16893468, 0.02734804, 0.06122569]), array([0.1658988 , 0.69959581, 0.78772168, 0.09010266, 0.51976031]), array([0.98205527, 0.98826899, 0.99340252, 0.95250232, 0.97729829])]\n",
       "      states: ['L', 'L', 'V']"
      ]
     },
     "execution_count": 5,
     "metadata": {},
     "output_type": "execute_result"
    }
   ],
   "source": [
    "# Solving phase equilibria. \n",
    "# The minima found using tpd are used as initial guesses for the multipahse flash\n",
    "X0 = X_trials[0]\n",
    "W0 = X_trials[1]\n",
    "Y0 = Y_trial\n",
    "\n",
    "vlle(X0, W0, Y0, Z, T, P, eos, full_output=True, K_tol=1e-14, nacc=10)"
   ]
  },
  {
   "cell_type": "markdown",
   "id": "8b2b84d0",
   "metadata": {},
   "source": [
    "As seen above, the multiphase flash detects this global composition at this temperature, and pressure converges to a liquid-liquid equilibrium (the vapour phase fraction is zero and its stability variable is positive). \n",
    "\n",
    "##### Case 2: Z = [0.5, 0.4, 0.1], T = 349.5K and P = 101325 Pa\n",
    "\n",
    "In the second example, `Z_trial = [0.4, 0.3, 0.3]` lies in the region where there are two liquid-like and one vapour-like trial phases with negative tpd values. Additionally, this point is inside the region where the system splits into VLLE."
   ]
  },
  {
   "cell_type": "code",
   "execution_count": 6,
   "id": "d915806c",
   "metadata": {},
   "outputs": [
    {
     "data": {
      "image/png": "[encoded data removed]",
      "text/plain": [
       "<Figure size 252x252 with 2 Axes>"
      ]
     },
     "metadata": {
      "needs_background": "light"
     },
     "output_type": "display_data"
    }
   ],
   "source": [
    "Z_trial = np.array([0.4, 0.3, 0.3])\n",
    "plot_stability(Z_trial);"
   ]
  },
  {
   "cell_type": "markdown",
   "id": "44a36b50",
   "metadata": {},
   "source": [
    "The stability test and phase equilibria calculations are repeated for this composition. "
   ]
  },
  {
   "cell_type": "code",
   "execution_count": 7,
   "id": "8795891d",
   "metadata": {},
   "outputs": [
    {
     "name": "stdout",
     "output_type": "stream",
     "text": [
      "Probably bulk phase:  False\n",
      "Probably VLE:  True\n",
      "Probably LLE:  True\n",
      "Probably VLLE:  True\n"
     ]
    },
    {
     "data": {
      "text/plain": [
       "           T: 349.5\n",
       "           P: 101325.0\n",
       " error_outer: 8.407044606831486e-15\n",
       " error_inner: 1.849545761541976e-10\n",
       "        iter: 46\n",
       "        beta: array([0.15016751, 0.24403826, 0.60579423])\n",
       "       tetha: array([0., 0., 0.])\n",
       "           X: array([[0.83719426, 0.01205077, 0.15075497],\n",
       "       [0.206991  , 0.49154168, 0.30146733],\n",
       "       [0.36937774, 0.29421771, 0.33640456]])\n",
       "           v: [2.5624338162480583e-05, 8.285814083765897e-05, 0.027659098803342084]\n",
       "        Xass: [array([0.09676724, 0.16024466, 0.21479354, 0.0309602 , 0.07994998]), array([0.14343066, 0.52776315, 0.64133768, 0.07083661, 0.34144101]), array([0.97939729, 0.98714717, 0.99299832, 0.94900557, 0.97525219])]\n",
       "      states: ['L', 'L', 'V']"
      ]
     },
     "execution_count": 7,
     "metadata": {},
     "output_type": "execute_result"
    }
   ],
   "source": [
    "T = 349.5  # K\n",
    "P = 101325. # Pa\n",
    "Z_trial = np.array([0.4, 0.3, 0.3])\n",
    "Z = Z_trial\n",
    "\n",
    "tpd_tol = -1e-3\n",
    "\n",
    "\n",
    "########################################\n",
    "# Test vapour trial phase against liquid\n",
    "########################################\n",
    "Y_trial, tpd_gas = tpd_minimas(3, Z, T, P, eos, stateW='V', stateZ='L')\n",
    "Y_trial = np.array(Y_trial)\n",
    "\n",
    "tpd_gas, index_unique = np.unique(tpd_gas, return_index=True)\n",
    "sort = np.argsort(tpd_gas)\n",
    "tpd_gas = tpd_gas[sort]\n",
    "index_unique = index_unique[sort]\n",
    "Y_trial = Y_trial[index_unique]\n",
    "Y_trial = Y_trial[0]\n",
    "tpd_gas = tpd_gas[0]\n",
    "\n",
    "if tpd_gas < tpd_tol:\n",
    "    # this means the liquid is unstable respect to the gas/vapour\n",
    "    possible_vle_gas = True\n",
    "else:\n",
    "    possible_vle_gas = False\n",
    "\n",
    "\n",
    "##############################################\n",
    "# Test liquid trial phase against vapour phase\n",
    "##############################################\n",
    "X_vle_trial, tpd_vle_liq = tpd_minimas(5, Z, T, P, eos, stateW='L', stateZ='V')\n",
    "X_vle_trial = np.array(X_vle_trial)\n",
    "tpd_vle_liq, index_unique = np.unique(tpd_vle_liq, return_index=True)\n",
    "\n",
    "sort = np.argsort(tpd_vle_liq)\n",
    "tpd_vle_liq = tpd_vle_liq[sort]\n",
    "index_unique = index_unique[sort]\n",
    "X_vle_trial = X_vle_trial[index_unique]\n",
    "\n",
    "tpd_vle_liq = tpd_vle_liq[0]\n",
    "X_vle_trial = X_vle_trial[0]\n",
    "\n",
    "if tpd_vle_liq < tpd_tol:\n",
    "    # this means this gas/vapour is unstable respect to the liquid\n",
    "    possible_vle_liq = True\n",
    "else:\n",
    "    possible_vle_liq = False\n",
    "    \n",
    "\n",
    "##############\n",
    "# Test for LLE\n",
    "##############\n",
    "        \n",
    "X_trials, tpd_liq = tpd_minimas(5, Z, T, P, eos, stateW='L', stateZ='L')\n",
    "X_trials = np.array(X_trials)\n",
    "\n",
    "tpd_liq, index_unique = np.unique(tpd_liq, return_index=True)\n",
    "if len(index_unique) >= 2:\n",
    "    sort = np.argsort(tpd_liq)\n",
    "    tpd_liq = tpd_liq[sort]\n",
    "    index_unique = index_unique[sort]\n",
    "    X_trials = X_trials[index_unique]\n",
    "\n",
    "    # getting the two lowest tpd values\n",
    "    X_trials = X_trials[:2]\n",
    "    tpd_liq = tpd_liq[:2]\n",
    "\n",
    "    if np.any(tpd_liq < tpd_tol):\n",
    "        possible_lle = True\n",
    "    else:\n",
    "        possible_lle = False\n",
    "else: \n",
    "    possible_lle = False\n",
    "    \n",
    "probably_vle = possible_vle_liq and possible_vle_gas\n",
    "probably_lle = possible_lle\n",
    "probably_vlle = possible_vle_gas and possible_lle\n",
    "probably_bulk_phase = (not probably_vle) and (not probably_lle) and (not probably_vlle)\n",
    "\n",
    "print(\"Probably bulk phase: \", probably_bulk_phase)\n",
    "print(\"Probably VLE: \", probably_vle)\n",
    "print(\"Probably LLE: \", probably_lle)\n",
    "print(\"Probably VLLE: \", probably_vlle)\n",
    "\n",
    "# Solving phase equilibria. \n",
    "# The minima found using tpd are used as initial guesses for the multipahse flash\n",
    "\n",
    "X0 = X_trials[0]\n",
    "W0 = X_trials[1]\n",
    "Y0 = Y_trial\n",
    "vlle(X0, W0, Y0, Z, T, P, eos, full_output=True, K_tol=1e-14, nacc=15)"
   ]
  },
  {
   "cell_type": "markdown",
   "id": "74f0cea0",
   "metadata": {},
   "source": [
    "In this case, the multiphase flash detects two liquids and one vapour that are stable (all the stability variables are zero). The system is in VLLE."
   ]
  }
 ],
 "metadata": {
  "kernelspec": {
   "display_name": "thermo",
   "language": "python",
   "name": "python3"
  },
  "language_info": {
   "codemirror_mode": {
    "name": "ipython",
    "version": 3
   },
   "file_extension": ".py",
   "mimetype": "text/x-python",
   "name": "python",
   "nbconvert_exporter": "python",
   "pygments_lexer": "ipython3",
   "version": "3.9.7"
  }
 },
 "nbformat": 4,
 "nbformat_minor": 5
}
